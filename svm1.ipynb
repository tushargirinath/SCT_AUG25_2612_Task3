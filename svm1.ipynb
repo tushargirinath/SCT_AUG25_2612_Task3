{
 "cells": [
  {
   "cell_type": "code",
   "execution_count": 1,
   "id": "5a1b57f4-1fd8-41b7-a05e-852d1f7718d6",
   "metadata": {},
   "outputs": [
    {
     "name": "stdout",
     "output_type": "stream",
     "text": [
      "Requirement already satisfied: numpy in c:\\users\\91636\\anaconda3\\lib\\site-packages (1.26.4)\n",
      "Requirement already satisfied: opencv-python in c:\\users\\91636\\anaconda3\\lib\\site-packages (4.10.0.84)\n",
      "Requirement already satisfied: scikit-learn in c:\\users\\91636\\anaconda3\\lib\\site-packages (1.5.1)\n",
      "Requirement already satisfied: matplotlib in c:\\users\\91636\\anaconda3\\lib\\site-packages (3.9.2)\n",
      "Requirement already satisfied: scipy>=1.6.0 in c:\\users\\91636\\anaconda3\\lib\\site-packages (from scikit-learn) (1.13.1)\n",
      "Requirement already satisfied: joblib>=1.2.0 in c:\\users\\91636\\anaconda3\\lib\\site-packages (from scikit-learn) (1.4.2)\n",
      "Requirement already satisfied: threadpoolctl>=3.1.0 in c:\\users\\91636\\anaconda3\\lib\\site-packages (from scikit-learn) (3.5.0)\n",
      "Requirement already satisfied: contourpy>=1.0.1 in c:\\users\\91636\\anaconda3\\lib\\site-packages (from matplotlib) (1.2.0)\n",
      "Requirement already satisfied: cycler>=0.10 in c:\\users\\91636\\anaconda3\\lib\\site-packages (from matplotlib) (0.11.0)\n",
      "Requirement already satisfied: fonttools>=4.22.0 in c:\\users\\91636\\anaconda3\\lib\\site-packages (from matplotlib) (4.51.0)\n",
      "Requirement already satisfied: kiwisolver>=1.3.1 in c:\\users\\91636\\anaconda3\\lib\\site-packages (from matplotlib) (1.4.4)\n",
      "Requirement already satisfied: packaging>=20.0 in c:\\users\\91636\\anaconda3\\lib\\site-packages (from matplotlib) (24.1)\n",
      "Requirement already satisfied: pillow>=8 in c:\\users\\91636\\anaconda3\\lib\\site-packages (from matplotlib) (10.4.0)\n",
      "Requirement already satisfied: pyparsing>=2.3.1 in c:\\users\\91636\\anaconda3\\lib\\site-packages (from matplotlib) (3.1.2)\n",
      "Requirement already satisfied: python-dateutil>=2.7 in c:\\users\\91636\\anaconda3\\lib\\site-packages (from matplotlib) (2.9.0.post0)\n",
      "Requirement already satisfied: six>=1.5 in c:\\users\\91636\\anaconda3\\lib\\site-packages (from python-dateutil>=2.7->matplotlib) (1.16.0)\n",
      "Note: you may need to restart the kernel to use updated packages.\n"
     ]
    }
   ],
   "source": [
    "pip install numpy opencv-python scikit-learn matplotlib\n"
   ]
  },
  {
   "cell_type": "code",
   "execution_count": 5,
   "id": "a21b7821-294e-4489-84fe-fd2a3c09d530",
   "metadata": {},
   "outputs": [
    {
     "name": "stdout",
     "output_type": "stream",
     "text": [
      "🔄 Loading cats...\n",
      "🔄 Loading dogs...\n",
      "🚀 Training SVM on CPU...\n",
      "✅ Accuracy: 0.7145\n",
      "              precision    recall  f1-score   support\n",
      "\n",
      "         Cat       0.73      0.69      0.71      1012\n",
      "         Dog       0.70      0.74      0.72       988\n",
      "\n",
      "    accuracy                           0.71      2000\n",
      "   macro avg       0.72      0.71      0.71      2000\n",
      "weighted avg       0.72      0.71      0.71      2000\n",
      "\n"
     ]
    }
   ],
   "source": [
    "import os\n",
    "import cv2\n",
    "import random\n",
    "import numpy as np\n",
    "from skimage.feature import hog\n",
    "from sklearn.svm import SVC  # ✅ Import for CPU-based SVM\n",
    "from sklearn.model_selection import train_test_split\n",
    "from sklearn.metrics import accuracy_score, classification_report\n",
    "\n",
    "# 👇 Your dataset paths (update if needed)\n",
    "dog_dir = r\"C:\\Users\\91636\\Downloads\\catdogmain\\PetImages\\Dog\"\n",
    "cat_dir = r\"C:\\Users\\91636\\Downloads\\catdogmain\\PetImages\\Cat\"\n",
    "\n",
    "img_size = 64\n",
    "max_images = 5000\n",
    "data, labels = [], []\n",
    "\n",
    "def extract_hog(image):\n",
    "    return hog(image, pixels_per_cell=(8, 8), cells_per_block=(2, 2),\n",
    "               orientations=9, feature_vector=True)\n",
    "\n",
    "def load_images(folder, label):\n",
    "    files = os.listdir(folder)\n",
    "    random.shuffle(files)\n",
    "    count = 0\n",
    "    for f in files:\n",
    "        try:\n",
    "            img = cv2.imread(os.path.join(folder, f))\n",
    "            img = cv2.resize(img, (img_size, img_size))\n",
    "            gray = cv2.cvtColor(img, cv2.COLOR_BGR2GRAY)\n",
    "            features = extract_hog(gray)\n",
    "            data.append(features)\n",
    "            labels.append(label)\n",
    "            count += 1\n",
    "            if count >= max_images:\n",
    "                break\n",
    "        except:\n",
    "            continue\n",
    "\n",
    "print(\"🔄 Loading cats...\")\n",
    "load_images(cat_dir, 0)\n",
    "print(\"🔄 Loading dogs...\")\n",
    "load_images(dog_dir, 1)\n",
    "\n",
    "X = np.array(data).astype(np.float32)\n",
    "y = np.array(labels).astype(np.int32)\n",
    "\n",
    "X_train, X_test, y_train, y_test = train_test_split(X, y, test_size=0.2, random_state=42)\n",
    "\n",
    "print(\"🚀 Training SVM on CPU...\")\n",
    "clf = SVC(kernel='linear')  # CPU-based SVM from scikit-learn\n",
    "clf.fit(X_train, y_train)\n",
    "\n",
    "y_pred = clf.predict(X_test)\n",
    "\n",
    "print(\"✅ Accuracy:\", accuracy_score(y_test, y_pred))\n",
    "print(classification_report(y_test, y_pred, target_names=[\"Cat\", \"Dog\"]))\n"
   ]
  },
  {
   "cell_type": "code",
   "execution_count": 7,
   "id": "699c8b5b-6158-4108-8ed9-557db0a0d698",
   "metadata": {},
   "outputs": [
    {
     "name": "stdout",
     "output_type": "stream",
     "text": [
      "💾 Model saved as 'svm_cat_dog_model.pkl'\n"
     ]
    }
   ],
   "source": [
    "# Save the trained model\n",
    "import joblib\n",
    "joblib.dump(clf, \"svm_cat_dog_model.pkl\")\n",
    "print(\"💾 Model saved as 'svm_cat_dog_model.pkl'\")\n"
   ]
  },
  {
   "cell_type": "code",
   "execution_count": 1,
   "id": "0958d93a-f2e5-41fc-9d84-8672fe4104e5",
   "metadata": {},
   "outputs": [
    {
     "name": "stdout",
     "output_type": "stream",
     "text": [
      "* Running on local URL:  http://127.0.0.1:7860\n",
      "* To create a public link, set `share=True` in `launch()`.\n"
     ]
    },
    {
     "data": {
      "text/html": [
       "<div><iframe src=\"http://127.0.0.1:7860/\" width=\"100%\" height=\"500\" allow=\"autoplay; camera; microphone; clipboard-read; clipboard-write;\" frameborder=\"0\" allowfullscreen></iframe></div>"
      ],
      "text/plain": [
       "<IPython.core.display.HTML object>"
      ]
     },
     "metadata": {},
     "output_type": "display_data"
    },
    {
     "data": {
      "text/plain": []
     },
     "execution_count": 1,
     "metadata": {},
     "output_type": "execute_result"
    }
   ],
   "source": [
    "import gradio as gr\n",
    "import cv2\n",
    "import numpy as np\n",
    "import joblib\n",
    "from skimage.feature import hog\n",
    "\n",
    "# Load the trained model\n",
    "model = joblib.load(\"svm_cat_dog_model.pkl\")\n",
    "img_size = 64\n",
    "\n",
    "# Feature extraction (same as used in training)\n",
    "def extract_hog(image):\n",
    "    return hog(image, pixels_per_cell=(8, 8), cells_per_block=(2, 2),\n",
    "               orientations=9, feature_vector=True)\n",
    "\n",
    "# Prediction function\n",
    "def predict(image):\n",
    "    try:\n",
    "        # Resize and convert to grayscale\n",
    "        image = cv2.resize(image, (img_size, img_size))\n",
    "        gray = cv2.cvtColor(image, cv2.COLOR_RGB2GRAY)\n",
    "        features = extract_hog(gray)\n",
    "        features = np.array(features).reshape(1, -1).astype(np.float32)\n",
    "        \n",
    "        # Predict\n",
    "        prediction = model.predict(features)[0]\n",
    "        label = \"Dog\" if prediction == 1 else \"Cat\"\n",
    "\n",
    "        return f\"🧠 Prediction: {label}\"\n",
    "    \n",
    "    except Exception as e:\n",
    "        return f\"❌ Error: {e}\"\n",
    "\n",
    "# Create Gradio interface\n",
    "interface = gr.Interface(\n",
    "    fn=predict,\n",
    "    inputs=gr.Image(type=\"numpy\", label=\"Upload Cat or Dog Image\"),\n",
    "    outputs=gr.Textbox(label=\"Prediction\"),\n",
    "    title=\"🐶 Cat vs Dog Classifier (SVM)\",\n",
    "    description=\"Upload a 64x64 image of a cat or dog. Model uses HOG features with SVM.\"\n",
    ")\n",
    "\n",
    "# Launch the app\n",
    "interface.launch()\n"
   ]
  },
  {
   "cell_type": "code",
   "execution_count": null,
   "id": "ad8e70d6-3153-4684-9be9-15c483366b8c",
   "metadata": {},
   "outputs": [],
   "source": []
  }
 ],
 "metadata": {
  "kernelspec": {
   "display_name": "Python 3 (ipykernel)",
   "language": "python",
   "name": "python3"
  },
  "language_info": {
   "codemirror_mode": {
    "name": "ipython",
    "version": 3
   },
   "file_extension": ".py",
   "mimetype": "text/x-python",
   "name": "python",
   "nbconvert_exporter": "python",
   "pygments_lexer": "ipython3",
   "version": "3.12.7"
  }
 },
 "nbformat": 4,
 "nbformat_minor": 5
}
